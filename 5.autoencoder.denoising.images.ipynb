{
 "cells": [
  {
   "cell_type": "markdown",
   "metadata": {},
   "source": [
    "# Deep Learning with PyTorch\n",
    "\n",
    "\n",
    "Author: [Anand Saha](http://teleported.in/)"
   ]
  },
  {
   "cell_type": "markdown",
   "metadata": {},
   "source": [
    "### 5. Autoencoder: denoising images"
   ]
  },
  {
   "cell_type": "code",
   "execution_count": 1,
   "metadata": {},
   "outputs": [],
   "source": [
    "import torch\n",
    "import torch.cuda as cuda\n",
    "import torch.nn as nn\n",
    "import matplotlib.pyplot as plt\n",
    "import numpy as np\n",
    "\n",
    "from torch.autograd import Variable\n",
    "\n",
    "# Torchvision module contains various utilities, classes, models and datasets \n",
    "# used towards computer vision usecases\n",
    "from torchvision import datasets\n",
    "from torchvision import transforms\n",
    "\n",
    "# Functional module contains helper functions\n",
    "#import torch.nn.functional as F"
   ]
  },
  {
   "cell_type": "code",
   "execution_count": 2,
   "metadata": {},
   "outputs": [],
   "source": [
    "#import warnings\n",
    "#warnings.filterwarnings(\"ignore\")"
   ]
  },
  {
   "cell_type": "code",
   "execution_count": 3,
   "metadata": {},
   "outputs": [
    {
     "name": "stdout",
     "output_type": "stream",
     "text": [
      "Files already downloaded and verified\n",
      "Files already downloaded and verified\n"
     ]
    }
   ],
   "source": [
    "transform=transforms.Compose([transforms.ToTensor()])\n",
    "\n",
    "cifar10_train = datasets.CIFAR10('./data.cifar10', train=True, download=True, transform=transform)\n",
    "cifar10_valid = datasets.CIFAR10('./data.cifar10', train=False, download=True, transform=transform)"
   ]
  },
  {
   "cell_type": "code",
   "execution_count": 16,
   "metadata": {},
   "outputs": [],
   "source": [
    "def show_img(orig, noisy, denoised):\n",
    "    fig=plt.figure()\n",
    "    \n",
    "    orig = orig.swapaxes(0, 1).swapaxes(1, 2)\n",
    "    noisy = noisy.swapaxes(0, 1).swapaxes(1, 2)\n",
    "    denoised = denoised.swapaxes(0, 1).swapaxes(1, 2)\n",
    "    \n",
    "    orig *= 1.0/orig.max()\n",
    "    noisy *= 1.0/noisy.max()\n",
    "    denoised *= 1.0/denoised.max()\n",
    "    \n",
    "    fig.add_subplot(1, 3, 1, title='Original')\n",
    "    plt.imshow(orig)\n",
    "    \n",
    "    fig.add_subplot(1, 3, 2, title='Noisy')\n",
    "    plt.imshow(noisy)\n",
    "    \n",
    "    fig.add_subplot(1, 3, 3, title='Denoised')\n",
    "    plt.imshow(denoised)\n",
    "    \n",
    "    fig.subplots_adjust(wspace = 0.5)\n",
    "    plt.show()"
   ]
  },
  {
   "cell_type": "code",
   "execution_count": 17,
   "metadata": {},
   "outputs": [
    {
     "data": {
      "image/png": "[encoded data removed]",
      "text/plain": [
       "<Figure size 432x288 with 3 Axes>"
      ]
     },
     "metadata": {},
     "output_type": "display_data"
    }
   ],
   "source": [
    "show_img(cifar10_train[4][0].numpy(), cifar10_train[5][0].numpy(), cifar10_train[6][0].numpy())"
   ]
  },
  {
   "cell_type": "code",
   "execution_count": null,
   "metadata": {},
   "outputs": [],
   "source": [
    "batch_size = 500 # Reduce this if you get out-of-memory error\n",
    "learning_rate = 0.001\n",
    "noise_level = 0.1"
   ]
  },
  {
   "cell_type": "code",
   "execution_count": null,
   "metadata": {},
   "outputs": [],
   "source": [
    "cifar10_train_loader = torch.utils.data.DataLoader(cifar10_train, batch_size=batch_size, shuffle=True, num_workers=1)\n",
    "cifar10_valid_loader = torch.utils.data.DataLoader(cifar10_valid, batch_size=batch_size, shuffle=True, num_workers=1)"
   ]
  },
  {
   "cell_type": "code",
   "execution_count": null,
   "metadata": {},
   "outputs": [],
   "source": [
    "class DenoisingAutoencoder(nn.Module):\n",
    "    \n",
    "    def __init__(self):\n",
    "    \n",
    "        super(DenoisingAutoencoder, self).__init__()\n",
    "                                         # 32 x 32 x 3 (input)\n",
    "\n",
    "        self.conv1e = nn.Conv2d(3, 24, 3, padding=2)                   # 30 x 30 x 24\n",
    "        self.conv2e = nn.Conv2d(24, 48, 3, padding=2)                  # 28 x 28 x 48\n",
    "        self.conv3e = nn.Conv2d(48, 96, 3, padding=2)                  # 26 x 26 x 96\n",
    "        self.conv4e = nn.Conv2d(96, 128, 3, padding=2)                 # 24 x 24 x 128\n",
    "        self.conv5e = nn.Conv2d(128, 256, 3, padding=2)                # 22 x 22 x 256\n",
    "        self.mp1e   = nn.MaxPool2d(2, return_indices=True)  # 11 x 11 x 256\n",
    "\n",
    "        self.mp1d = nn.MaxUnpool2d(2)\n",
    "        self.conv5d = nn.ConvTranspose2d(256, 128, 3, padding=2)\n",
    "        self.conv4d = nn.ConvTranspose2d(128, 96, 3, padding=2)\n",
    "        self.conv3d = nn.ConvTranspose2d(96, 48, 3, padding=2)\n",
    "        self.conv2d = nn.ConvTranspose2d(48, 24, 3, padding=2)\n",
    "        self.conv1d = nn.ConvTranspose2d(24, 3, 3, padding=2)\n",
    "        \n",
    "    \n",
    "    def forward(self, x):\n",
    "        \n",
    "        x = self.conv1e(x)\n",
    "        x = self.conv2e(x)\n",
    "        x = self.conv3e(x)\n",
    "        x = self.conv4e(x)\n",
    "        x = self.conv5e(x)\n",
    "        x, i = self.mp1e(x)\n",
    "        x = self.mp1d(x, i)\n",
    "        x = self.conv5d(x)\n",
    "        x = self.conv4d(x)\n",
    "        x = self.conv3d(x)\n",
    "        x = self.conv2d(x)\n",
    "        x = self.conv1d(x)\n",
    "        \n",
    "        return x\n"
   ]
  },
  {
   "cell_type": "code",
   "execution_count": null,
   "metadata": {},
   "outputs": [],
   "source": [
    "autoencoder = DenoisingAutoencoder().cuda()\n",
    "parameters = list(autoencoder.parameters())\n",
    "loss_func = nn.MSELoss()\n",
    "optimizer = torch.optim.Adam(parameters, lr=learning_rate)"
   ]
  },
  {
   "cell_type": "code",
   "execution_count": null,
   "metadata": {},
   "outputs": [],
   "source": [
    "train_loss = []\n",
    "\n",
    "for i in range(50):\n",
    "    \n",
    "    total_loss = 0.0\n",
    "    total_iter = 0\n",
    "    \n",
    "    for image, label in cifar10_train_loader:\n",
    "        \n",
    "        noise = torch.randn(batch_size, 3, 32, 32) * noise_level\n",
    "        image_n = torch.add(image, noise)\n",
    "        \n",
    "        image = Variable(image).cuda()\n",
    "        image_n = Variable(image_n).cuda()\n",
    "\n",
    "        optimizer.zero_grad()\n",
    "        output = autoencoder(image_n)\n",
    "        \n",
    "        loss = loss_func(output, image)\n",
    "        loss.backward()\n",
    "        optimizer.step()\n",
    "        \n",
    "        total_iter += 1\n",
    "        total_loss += loss.data[0]\n",
    "        \n",
    "    # Let's visualize the first image of the last batch\n",
    "    orig = image[0].cpu()\n",
    "    noisy = image_n[0].cpu()\n",
    "    denoised = output[0].cpu()\n",
    "\n",
    "    orig = orig.data.numpy()\n",
    "    noisy = noisy.data.numpy()\n",
    "    denoised = denoised.data.numpy()\n",
    "\n",
    "    show_img(orig, noisy, denoised)\n",
    "    train_loss.append(total_loss / total_iter)\n",
    "    \n",
    "    # TODO Delete Me\n",
    "    import time\n",
    "    time.sleep(10)"
   ]
  }
 ],
 "metadata": {
  "kernelspec": {
   "display_name": "Python 3",
   "language": "python",
   "name": "python3"
  },
  "language_info": {
   "codemirror_mode": {
    "name": "ipython",
    "version": 3
   },
   "file_extension": ".py",
   "mimetype": "text/x-python",
   "name": "python",
   "nbconvert_exporter": "python",
   "pygments_lexer": "ipython3",
   "version": "3.6.4"
  }
 },
 "nbformat": 4,
 "nbformat_minor": 2
}
