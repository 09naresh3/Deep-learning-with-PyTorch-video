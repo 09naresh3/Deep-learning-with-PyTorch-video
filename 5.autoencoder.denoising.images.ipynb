{
 "cells": [
  {
   "cell_type": "markdown",
   "metadata": {},
   "source": [
    "# Deep Learning with PyTorch\n",
    "\n",
    "\n",
    "Author: [Anand Saha](http://teleported.in/)"
   ]
  },
  {
   "cell_type": "markdown",
   "metadata": {},
   "source": [
    "### 5. Autoencoder: denoising images"
   ]
  },
  {
   "cell_type": "code",
   "execution_count": null,
   "metadata": {},
   "outputs": [],
   "source": [
    "import torch\n",
    "import torch.cuda as cuda\n",
    "import torch.nn as nn\n",
    "import matplotlib.pyplot as plt\n",
    "import numpy as np\n",
    "\n",
    "from torch.autograd import Variable\n",
    "\n",
    "# Torchvision module contains various utilities, classes, models and datasets \n",
    "# used towards computer vision usecases\n",
    "from torchvision import datasets\n",
    "from torchvision import transforms\n",
    "\n",
    "# Functional module contains helper functions\n",
    "import torch.nn.functional as F"
   ]
  },
  {
   "cell_type": "code",
   "execution_count": null,
   "metadata": {},
   "outputs": [],
   "source": [
    "# Mean and standard deviation of all the pixels in the FMNIST dataset\n",
    "# It is 0.5 since these are PIL images\n",
    "mean_gray = 0.5\n",
    "stddev_gray = 0.5\n",
    "\n",
    "#transform=transforms.Compose([transforms.ToTensor(), transforms.Normalize((mean_gray,), (stddev_gray,))])\n",
    "transform=transforms.Compose([transforms.ToTensor()])\n",
    "\n",
    "cifar10_train = datasets.CIFAR10('./data.cifar10', train=True, download=True, transform=transform)\n",
    "cifar10_valid = datasets.CIFAR10('./data.cifar10', train=False, download=True, transform=transform)"
   ]
  },
  {
   "cell_type": "code",
   "execution_count": null,
   "metadata": {},
   "outputs": [],
   "source": [
    "def show_img(img, title):\n",
    "    img = img.swapaxes(0, 1)\n",
    "    img = img.swapaxes(1, 2)\n",
    "    print(img.shape)\n",
    "    fig = plt.figure(figsize=(2, 2))\n",
    "    plt.imshow(img)\n",
    "    plt.title(title)\n",
    "    plt.show()"
   ]
  },
  {
   "cell_type": "code",
   "execution_count": null,
   "metadata": {},
   "outputs": [],
   "source": [
    "show_img(cifar10_train[4][0].numpy(), 'Orig')"
   ]
  },
  {
   "cell_type": "code",
   "execution_count": null,
   "metadata": {},
   "outputs": [],
   "source": [
    "batch_size = 500 # Reduce this if you get out-of-memory error"
   ]
  },
  {
   "cell_type": "code",
   "execution_count": null,
   "metadata": {},
   "outputs": [],
   "source": [
    "cifar10_train_loader = torch.utils.data.DataLoader(cifar10_train, batch_size=batch_size, shuffle=True, num_workers=1)\n",
    "cifar10_valid_loader = torch.utils.data.DataLoader(cifar10_valid, batch_size=batch_size, shuffle=True, num_workers=1)"
   ]
  },
  {
   "cell_type": "code",
   "execution_count": null,
   "metadata": {},
   "outputs": [],
   "source": [
    "def weights_init(m):\n",
    "    classname = m.__class__.__name__\n",
    "    if classname.find('Conv') != -1:\n",
    "        print('Conv Weight Init ..')\n",
    "        m.weight.data.normal_(0.0, 0.02)\n",
    "        m.bias.data.fill_(0.0001)\n",
    "    elif classname.find('BatchNorm') != -1:\n",
    "        m.weight.data.normal_(1.0, 0.02)\n",
    "        m.bias.data.fill_(0)"
   ]
  },
  {
   "cell_type": "code",
   "execution_count": null,
   "metadata": {},
   "outputs": [],
   "source": [
    "class DenoisingAutoencoder(nn.Module):\n",
    "    \n",
    "    def __init__(self):\n",
    "    \n",
    "        super(DenoisingAutoencoder, self).__init__()\n",
    "                                         # 32 x 32 x 3 (input)\n",
    "\n",
    "        self.conv1e = nn.Conv2d(3, 24, 3, padding=2)                   # 30 x 30 x 24\n",
    "        self.conv2e = nn.Conv2d(24, 48, 3, padding=2)                  # 28 x 28 x 48\n",
    "        self.conv3e = nn.Conv2d(48, 96, 3, padding=2)                  # 26 x 26 x 96\n",
    "        self.conv4e = nn.Conv2d(96, 128, 3, padding=2)                 # 24 x 24 x 128\n",
    "        self.conv5e = nn.Conv2d(128, 256, 3, padding=2)                # 22 x 22 x 256\n",
    "        self.mp1e   = nn.MaxPool2d(2, return_indices=True)  # 11 x 11 x 256\n",
    "\n",
    "        self.mp1d = nn.MaxUnpool2d(2)\n",
    "        self.conv5d = nn.ConvTranspose2d(256, 128, 3, padding=2)\n",
    "        self.conv4d = nn.ConvTranspose2d(128, 96, 3, padding=2)\n",
    "        self.conv3d = nn.ConvTranspose2d(96, 48, 3, padding=2)\n",
    "        self.conv2d = nn.ConvTranspose2d(48, 24, 3, padding=2)\n",
    "        self.conv1d = nn.ConvTranspose2d(24, 3, 3, padding=2)\n",
    "    \n",
    "    def forward(self, x):\n",
    "        \n",
    "        x = self.conv1e(x)\n",
    "        x = self.conv2e(x)\n",
    "        x = self.conv3e(x)\n",
    "        x = self.conv4e(x)\n",
    "        x = self.conv5e(x)\n",
    "        x, i = self.mp1e(x)\n",
    "        x = self.mp1d(x, i)\n",
    "        x = self.conv5d(x)\n",
    "        x = self.conv4d(x)\n",
    "        x = self.conv3d(x)\n",
    "        x = self.conv2d(x)\n",
    "        x = self.conv1d(x)\n",
    "        \n",
    "        return x\n"
   ]
  },
  {
   "cell_type": "code",
   "execution_count": null,
   "metadata": {},
   "outputs": [],
   "source": [
    "\"\"\"\n",
    "autoencoder = DenoisingAutoencoder().cuda()\n",
    "\n",
    "for image,label in cifar10_train_loader:\n",
    "    image = Variable(image).cuda()\n",
    "    output = autoencoder(image)\n",
    "    print(output.size())\n",
    "    break\n",
    "    \n",
    "show_img(image.data.cpu().numpy()[1], 'sadf')\n",
    "show_img(output.data.cpu().numpy()[1], 'sadf')\n",
    "\"\"\""
   ]
  },
  {
   "cell_type": "code",
   "execution_count": null,
   "metadata": {},
   "outputs": [],
   "source": [
    "learning_rate = 0.001\n",
    "noise_level = 0.1"
   ]
  },
  {
   "cell_type": "code",
   "execution_count": null,
   "metadata": {},
   "outputs": [],
   "source": [
    "autoencoder = DenoisingAutoencoder().cuda()"
   ]
  },
  {
   "cell_type": "code",
   "execution_count": null,
   "metadata": {},
   "outputs": [],
   "source": [
    "parameters = list(autoencoder.parameters())\n",
    "loss_func = nn.MSELoss()\n",
    "optimizer = torch.optim.Adam(parameters, lr=learning_rate)\n",
    "#optimizer = torch.optim.SGD(parameters, lr=learning_rate, momentum=0.99, nesterov=True, dampening=0.0)"
   ]
  },
  {
   "cell_type": "code",
   "execution_count": null,
   "metadata": {},
   "outputs": [],
   "source": [
    "import time"
   ]
  },
  {
   "cell_type": "code",
   "execution_count": null,
   "metadata": {},
   "outputs": [],
   "source": [
    "for i in range(50):\n",
    "    \n",
    "    \"\"\"\n",
    "    if i % 20 == 0:\n",
    "        print(\"Setting learning rate to \", decay(i+1))\n",
    "        for param_group in optimizer.param_groups:\n",
    "            param_group['lr'] = decay(i+1)\n",
    "    \"\"\"\n",
    "            \n",
    "    for image, label in cifar10_train_loader:\n",
    "        \n",
    "        noise = torch.randn(batch_size, 3, 32, 32) * noise_level\n",
    "        image_n = torch.add(image, noise)\n",
    "        \n",
    "        image = Variable(image).cuda()\n",
    "        image_n = Variable(image_n).cuda()\n",
    "\n",
    "        optimizer.zero_grad()\n",
    "        output = autoencoder(image_n)\n",
    "        \n",
    "        loss = loss_func(output, image)\n",
    "        loss.backward()\n",
    "        optimizer.step()\n",
    "        \n",
    "    \n",
    "    # check image with noise and denoised image\\n# Better image if you train more or upgrade the model\\n\n",
    "    img = image[0].cpu()\n",
    "    input_img = image_n[0].cpu()\n",
    "    output_img = output[0].cpu()\n",
    "\n",
    "    origin = img.data.numpy()\n",
    "    inp = input_img.data.numpy()\n",
    "    out = output_img.data.numpy()\n",
    "\n",
    "    \n",
    "    show_img(origin, 'Orig')\n",
    "    show_img(inp, 'With noise')\n",
    "    show_img(out, 'Denoised')\n",
    "    \n",
    "    print(loss, i)\n",
    "    print(\"Sleeping ...\")\n",
    "    time.sleep(10)\n",
    "    print(\"Waking up ...\")\n",
    "    if False and i > 0 and i % 10 == 0:\n",
    "        print(\"Sleeping ...\")\n",
    "        time.sleep(20)\n",
    "        \n",
    "    \n"
   ]
  }
 ],
 "metadata": {
  "kernelspec": {
   "display_name": "Python 3",
   "language": "python",
   "name": "python3"
  },
  "language_info": {
   "codemirror_mode": {
    "name": "ipython",
    "version": 3
   },
   "file_extension": ".py",
   "mimetype": "text/x-python",
   "name": "python",
   "nbconvert_exporter": "python",
   "pygments_lexer": "ipython3",
   "version": "3.6.4"
  }
 },
 "nbformat": 4,
 "nbformat_minor": 2
}
